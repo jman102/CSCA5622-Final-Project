{
 "cells": [
  {
   "cell_type": "markdown",
   "id": "3573789c-ec77-400a-90f0-7290a1b8e200",
   "metadata": {},
   "source": [
    "# <u>**Final Project: Diabetes Health Indicators Classification </u>**\n",
    "## G. Jake Manning  |  CSCA 5622 - Spring 2025 Session 1  |  [GitHub Repository](https://github.com/jman102/CSCA5622-Final-Project)"
   ]
  },
  {
   "cell_type": "code",
   "execution_count": null,
   "id": "9505874c-c1af-44b1-b474-29f7fce1674e",
   "metadata": {},
   "outputs": [],
   "source": [
    "#A Jupyter notebook showing a supervised learning problem description, EDA procedure, analysis (model building and training), result, and discussion/conclusion. "
   ]
  },
  {
   "cell_type": "markdown",
   "id": "b8cde763-3870-4c5f-807e-dcaf2aedf2a8",
   "metadata": {},
   "source": [
    "### Problem Description"
   ]
  },
  {
   "cell_type": "markdown",
   "id": "db34e312-7ba7-426f-b468-953fe3b368e9",
   "metadata": {},
   "source": []
  },
  {
   "cell_type": "markdown",
   "id": "7e771e5a-2dfc-4882-871b-76897da05dc6",
   "metadata": {},
   "source": [
    "### EDA Procedure"
   ]
  },
  {
   "cell_type": "markdown",
   "id": "4e647bbf-2ed4-4a4a-b2ac-a03caa29fdb6",
   "metadata": {},
   "source": [
    "To start, let's pull the CDC Diabetes Health Indicators data from the UC Irvine Machine Learning Repository. They have a super convenient module where you can fetch the data by a repo id and load it into pandas dataframes. Most sources of data are not like this. But for a beginner project, I feel like data retrieval is not the emphasis, so I'll use the nice resources available."
   ]
  },
  {
   "cell_type": "code",
   "execution_count": 5,
   "id": "a0a27022-d8b7-4b6a-9347-d481f34d98d2",
   "metadata": {},
   "outputs": [],
   "source": [
    "from ucimlrepo import fetch_ucirepo \n",
    "  \n",
    "# fetch dataset | CDC Diabetes Health Indicators\n",
    "## url - https://archive.ics.uci.edu/dataset/891/cdc+diabetes+health+indicators\n",
    "cdc_diabetes_health_indicators = fetch_ucirepo(id=891) \n",
    "  \n",
    "# data (as pandas dataframes) \n",
    "X = cdc_diabetes_health_indicators.data.features \n",
    "y = cdc_diabetes_health_indicators.data.targets \n",
    "  \n",
    "# metadata \n",
    "# print(cdc_diabetes_health_indicators.metadata) \n",
    "  \n",
    "# variable information \n",
    "# print(cdc_diabetes_health_indicators.variables)"
   ]
  },
  {
   "cell_type": "code",
   "execution_count": null,
   "id": "b06277da-c4ad-41f2-aeec-5f6c6b1ec98f",
   "metadata": {},
   "outputs": [],
   "source": [
    "cdc_diabetes_health_indicators."
   ]
  },
  {
   "cell_type": "code",
   "execution_count": 6,
   "id": "682e32c6-34a7-43dd-8e63-e61d1faa4a97",
   "metadata": {},
   "outputs": [
    {
     "name": "stdout",
     "output_type": "stream",
     "text": [
      "<class 'pandas.core.frame.DataFrame'>\n",
      "RangeIndex: 253680 entries, 0 to 253679\n",
      "Data columns (total 21 columns):\n",
      " #   Column                Non-Null Count   Dtype\n",
      "---  ------                --------------   -----\n",
      " 0   HighBP                253680 non-null  int64\n",
      " 1   HighChol              253680 non-null  int64\n",
      " 2   CholCheck             253680 non-null  int64\n",
      " 3   BMI                   253680 non-null  int64\n",
      " 4   Smoker                253680 non-null  int64\n",
      " 5   Stroke                253680 non-null  int64\n",
      " 6   HeartDiseaseorAttack  253680 non-null  int64\n",
      " 7   PhysActivity          253680 non-null  int64\n",
      " 8   Fruits                253680 non-null  int64\n",
      " 9   Veggies               253680 non-null  int64\n",
      " 10  HvyAlcoholConsump     253680 non-null  int64\n",
      " 11  AnyHealthcare         253680 non-null  int64\n",
      " 12  NoDocbcCost           253680 non-null  int64\n",
      " 13  GenHlth               253680 non-null  int64\n",
      " 14  MentHlth              253680 non-null  int64\n",
      " 15  PhysHlth              253680 non-null  int64\n",
      " 16  DiffWalk              253680 non-null  int64\n",
      " 17  Sex                   253680 non-null  int64\n",
      " 18  Age                   253680 non-null  int64\n",
      " 19  Education             253680 non-null  int64\n",
      " 20  Income                253680 non-null  int64\n",
      "dtypes: int64(21)\n",
      "memory usage: 40.6 MB\n",
      "None\n"
     ]
    }
   ],
   "source": [
    "print(X.info())"
   ]
  },
  {
   "cell_type": "code",
   "execution_count": 10,
   "id": "2eadaee9-1bb1-4049-9414-2bbea1d65294",
   "metadata": {},
   "outputs": [
    {
     "name": "stdout",
     "output_type": "stream",
     "text": [
      "<class 'pandas.core.frame.DataFrame'>\n",
      "RangeIndex: 253680 entries, 0 to 253679\n",
      "Data columns (total 1 columns):\n",
      " #   Column           Non-Null Count   Dtype\n",
      "---  ------           --------------   -----\n",
      " 0   Diabetes_binary  253680 non-null  int64\n",
      "dtypes: int64(1)\n",
      "memory usage: 1.9 MB\n",
      "None\n",
      "        Diabetes_binary\n",
      "253675                0\n",
      "253676                1\n",
      "253677                0\n",
      "253678                0\n",
      "253679                1\n",
      "Diabetes_binary    0.139333\n",
      "dtype: float64\n"
     ]
    }
   ],
   "source": [
    "print(y.info())\n",
    "print(y.tail())\n",
    "print(y.sum()/len(y))"
   ]
  },
  {
   "cell_type": "code",
   "execution_count": 15,
   "id": "fc5ed3ba-6b11-4ea6-a045-c5cbacc32250",
   "metadata": {},
   "outputs": [
    {
     "name": "stdout",
     "output_type": "stream",
     "text": [
      "0    0\n",
      "1    0\n",
      "2    1\n",
      "3    1\n",
      "4    1\n",
      "Name: Fruits, dtype: int64\n"
     ]
    }
   ],
   "source": [
    "print(X['Fruits'].head())"
   ]
  },
  {
   "cell_type": "markdown",
   "id": "a103bc50-3acc-47c0-b82c-e4b62a834e0c",
   "metadata": {},
   "source": [
    "### Analysis: Model Building & Training"
   ]
  },
  {
   "cell_type": "markdown",
   "id": "c032f5c3-09fa-4e7a-b957-4937a5db6d66",
   "metadata": {},
   "source": [
    "For this classification problem, there were a handful of supervised machine learning techniques that we learned in this course that could be useful. My approach is to try a few different techniques and then compare results in later sections of this notebook."
   ]
  },
  {
   "cell_type": "code",
   "execution_count": null,
   "id": "f09a3266-94fb-4763-92db-b6c651016d84",
   "metadata": {},
   "outputs": [],
   "source": []
  },
  {
   "cell_type": "markdown",
   "id": "252422f2-615a-4522-a997-9a5720012594",
   "metadata": {},
   "source": [
    "### Results"
   ]
  },
  {
   "cell_type": "code",
   "execution_count": null,
   "id": "036668a1-803f-47b2-b48a-d7c337dba204",
   "metadata": {},
   "outputs": [],
   "source": []
  },
  {
   "cell_type": "markdown",
   "id": "0e7e6a11-c353-4ef5-bfee-6c70943fc8f3",
   "metadata": {},
   "source": [
    "### Conclusions"
   ]
  },
  {
   "cell_type": "markdown",
   "id": "fee9a0ad-f401-4fe5-9573-43cde4fd0962",
   "metadata": {},
   "source": [
    "### Sources"
   ]
  },
  {
   "cell_type": "markdown",
   "id": "b7874dc0-3ae9-418a-83bb-1d8d42bbb2ae",
   "metadata": {},
   "source": [
    "[UC Irvine Machine Learning Repository](https://archive.ics.uci.edu/dataset/891/cdc+diabetes+health+indicators)\n",
    "\n",
    "[Kaggle Project](https://www.kaggle.com/datasets/alexteboul/diabetes-health-indicators-dataset/data?select=diabetes_012_health_indicators_BRFSS2015.csv)\n",
    "\n",
    "[Original Dataset Source](https://www.kaggle.com/datasets/cdc/behavioral-risk-factor-surveillance-system)"
   ]
  },
  {
   "cell_type": "code",
   "execution_count": null,
   "id": "7323eee3-1440-4c60-89c2-071ef31d23f9",
   "metadata": {},
   "outputs": [],
   "source": []
  }
 ],
 "metadata": {
  "kernelspec": {
   "display_name": "Python 3 (ipykernel)",
   "language": "python",
   "name": "python3"
  },
  "language_info": {
   "codemirror_mode": {
    "name": "ipython",
    "version": 3
   },
   "file_extension": ".py",
   "mimetype": "text/x-python",
   "name": "python",
   "nbconvert_exporter": "python",
   "pygments_lexer": "ipython3",
   "version": "3.12.9"
  }
 },
 "nbformat": 4,
 "nbformat_minor": 5
}
