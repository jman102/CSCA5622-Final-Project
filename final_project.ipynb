{
 "cells": [
  {
   "cell_type": "markdown",
   "id": "3573789c-ec77-400a-90f0-7290a1b8e200",
   "metadata": {},
   "source": [
    "# <u>**Final Project: Diabetes Health Indicators Classification </u>**\n",
    "## G. Jake Manning  |  CSCA 5622 - Spring 2025 Session 1  |  [GitHub Repository](https://github.com/jman102/CSCA5622-Final-Project)"
   ]
  },
  {
   "cell_type": "code",
   "execution_count": null,
   "id": "9505874c-c1af-44b1-b474-29f7fce1674e",
   "metadata": {},
   "outputs": [],
   "source": [
    "#A Jupyter notebook showing a supervised learning problem description, EDA procedure, analysis (model building and training), result, and discussion/conclusion. "
   ]
  },
  {
   "cell_type": "markdown",
   "id": "b8cde763-3870-4c5f-807e-dcaf2aedf2a8",
   "metadata": {},
   "source": [
    "### Problem Description"
   ]
  },
  {
   "cell_type": "markdown",
   "id": "db34e312-7ba7-426f-b468-953fe3b368e9",
   "metadata": {},
   "source": []
  },
  {
   "cell_type": "markdown",
   "id": "7e771e5a-2dfc-4882-871b-76897da05dc6",
   "metadata": {},
   "source": [
    "### EDA Procedure"
   ]
  },
  {
   "cell_type": "code",
   "execution_count": 3,
   "id": "a0a27022-d8b7-4b6a-9347-d481f34d98d2",
   "metadata": {},
   "outputs": [],
   "source": [
    "from ucimlrepo import fetch_ucirepo \n",
    "  \n",
    "# fetch dataset | CDC Diabetes Health Indicators\n",
    "## url - https://archive.ics.uci.edu/dataset/891/cdc+diabetes+health+indicators\n",
    "cdc_diabetes_health_indicators = fetch_ucirepo(id=891) \n",
    "  \n",
    "# data (as pandas dataframes) \n",
    "X = cdc_diabetes_health_indicators.data.features \n",
    "y = cdc_diabetes_health_indicators.data.targets \n",
    "  \n",
    "# metadata \n",
    "# print(cdc_diabetes_health_indicators.metadata) \n",
    "  \n",
    "# variable information \n",
    "# print(cdc_diabetes_health_indicators.variables) "
   ]
  },
  {
   "cell_type": "code",
   "execution_count": null,
   "id": "aa42c5cc-16bf-4774-aeb1-9be9d41bf90f",
   "metadata": {},
   "outputs": [],
   "source": []
  },
  {
   "cell_type": "markdown",
   "id": "a103bc50-3acc-47c0-b82c-e4b62a834e0c",
   "metadata": {},
   "source": [
    "### Analysis: Model Building & Training"
   ]
  },
  {
   "cell_type": "markdown",
   "id": "252422f2-615a-4522-a997-9a5720012594",
   "metadata": {},
   "source": [
    "### Results"
   ]
  },
  {
   "cell_type": "markdown",
   "id": "0e7e6a11-c353-4ef5-bfee-6c70943fc8f3",
   "metadata": {},
   "source": [
    "### Conclusions"
   ]
  },
  {
   "cell_type": "markdown",
   "id": "fee9a0ad-f401-4fe5-9573-43cde4fd0962",
   "metadata": {},
   "source": [
    "### Sources"
   ]
  },
  {
   "cell_type": "markdown",
   "id": "b7874dc0-3ae9-418a-83bb-1d8d42bbb2ae",
   "metadata": {},
   "source": [
    "[UC Irvine Machine Learning Repository](https://archive.ics.uci.edu/dataset/891/cdc+diabetes+health+indicators)\n",
    "\n",
    "[Kaggle Project](https://www.kaggle.com/datasets/alexteboul/diabetes-health-indicators-dataset/data?select=diabetes_012_health_indicators_BRFSS2015.csv)\n",
    "\n",
    "[Original Dataset Source](https://www.kaggle.com/datasets/cdc/behavioral-risk-factor-surveillance-system)"
   ]
  },
  {
   "cell_type": "code",
   "execution_count": null,
   "id": "7323eee3-1440-4c60-89c2-071ef31d23f9",
   "metadata": {},
   "outputs": [],
   "source": []
  }
 ],
 "metadata": {
  "kernelspec": {
   "display_name": "Python 3 (ipykernel)",
   "language": "python",
   "name": "python3"
  },
  "language_info": {
   "codemirror_mode": {
    "name": "ipython",
    "version": 3
   },
   "file_extension": ".py",
   "mimetype": "text/x-python",
   "name": "python",
   "nbconvert_exporter": "python",
   "pygments_lexer": "ipython3",
   "version": "3.12.9"
  }
 },
 "nbformat": 4,
 "nbformat_minor": 5
}
